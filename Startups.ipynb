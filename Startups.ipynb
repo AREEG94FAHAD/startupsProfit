{
 "cells": [
  {
   "cell_type": "markdown",
   "id": "23581302",
   "metadata": {},
   "source": [
    "### Startups Profite Regression System"
   ]
  },
  {
   "cell_type": "markdown",
   "id": "8b433ff4",
   "metadata": {},
   "source": [
    "A multi-linear regression system to estimate the profit of startups in three states in America."
   ]
  },
  {
   "cell_type": "markdown",
   "id": "28251929",
   "metadata": {},
   "source": [
    "#### Independent variables are\n",
    "\n",
    "- R&D Spend\n",
    "- Administration\n",
    "- Marketing Spend\n",
    "- State,Profit"
   ]
  },
  {
   "cell_type": "markdown",
   "id": "d1635d27",
   "metadata": {},
   "source": [
    "#### Dependent variables include \n",
    "- Profit"
   ]
  },
  {
   "cell_type": "markdown",
   "id": "383b7e96",
   "metadata": {},
   "source": [
    "This project's dataset is available for download at this link  [Dataset](https://raw.githubusercontent.com/arib168/data/main/50_Startups.csv)"
   ]
  },
  {
   "cell_type": "markdown",
   "id": "aa749457",
   "metadata": {},
   "source": [
    "#### Tools"
   ]
  },
  {
   "cell_type": "markdown",
   "id": "79674148",
   "metadata": {},
   "source": [
    "To work with this project, multiple libraries and frameworks need to be installed. The following is a list of them."
   ]
  },
  {
   "cell_type": "markdown",
   "id": "dd3a42eb",
   "metadata": {},
   "source": [
    "- [Pandas](https://pandas.pydata.org/)\n",
    "- [Numpy](https://numpy.org/)\n",
    "- [Matplotlib](https://matplotlib.org/)\n",
    "- [scikit-learn](https://scikit-learn.org/stable/)"
   ]
  },
  {
   "cell_type": "markdown",
   "id": "b8b6077e",
   "metadata": {},
   "source": [
    "#### Code implemention"
   ]
  },
  {
   "cell_type": "markdown",
   "id": "7edc3934",
   "metadata": {},
   "source": [
    "Import the main packets for the project"
   ]
  },
  {
   "cell_type": "code",
   "execution_count": 9,
   "id": "6cf86d75",
   "metadata": {},
   "outputs": [],
   "source": [
    "from sklearn.compose import make_column_transformer\n",
    "from sklearn.preprocessing import OneHotEncoder, StandardScaler\n",
    "import pandas as pd\n",
    "from sklearn.model_selection import train_test_split\n",
    "from sklearn.linear_model import LinearRegression\n",
    "from sklearn.metrics import r2_score\n",
    "import matplotlib.pyplot as plt"
   ]
  },
  {
   "cell_type": "markdown",
   "id": "6f8e7472",
   "metadata": {},
   "source": [
    "Take a look at the dataset"
   ]
  },
  {
   "cell_type": "code",
   "execution_count": 10,
   "id": "55fbf01b",
   "metadata": {},
   "outputs": [],
   "source": [
    "df = pd.read_csv(\"dataset.csv\")"
   ]
  },
  {
   "cell_type": "markdown",
   "id": "2e9269a2",
   "metadata": {},
   "source": [
    "Select the columns for training and testing\n",
    "Select the first four columns as independent variables (x)"
   ]
  },
  {
   "cell_type": "code",
   "execution_count": 11,
   "id": "7d4b71f0",
   "metadata": {},
   "outputs": [],
   "source": [
    "x = df.iloc[:, :4]"
   ]
  },
  {
   "cell_type": "markdown",
   "id": "dfe9fee4",
   "metadata": {},
   "source": [
    "Select the last column as a dependent variable (y)"
   ]
  },
  {
   "cell_type": "code",
   "execution_count": 12,
   "id": "dec7ae3f",
   "metadata": {},
   "outputs": [],
   "source": [
    "y = df.iloc[:, 4]"
   ]
  },
  {
   "cell_type": "markdown",
   "id": "4a4f6085",
   "metadata": {},
   "source": [
    "The categorical variable is converted using onehotencoder, and the reset is performed using standardScaler"
   ]
  },
  {
   "cell_type": "code",
   "execution_count": 13,
   "id": "68e4e3d6",
   "metadata": {},
   "outputs": [],
   "source": [
    "col_transformer = make_column_transformer((OneHotEncoder(), ['State']),remainder=StandardScaler())\n",
    "\n",
    "x = col_transformer.fit_transform(x)"
   ]
  },
  {
   "cell_type": "markdown",
   "id": "951dcb9f",
   "metadata": {},
   "source": [
    "Select 80% for training and 20% for testing"
   ]
  },
  {
   "cell_type": "code",
   "execution_count": 14,
   "id": "c180e2ae",
   "metadata": {},
   "outputs": [],
   "source": [
    "x_train,x_test,y_train,y_test=train_test_split(x,y,test_size=0.2,random_state=0)"
   ]
  },
  {
   "cell_type": "markdown",
   "id": "be0bb428",
   "metadata": {},
   "source": [
    "call the linear regression and compute the results"
   ]
  },
  {
   "cell_type": "code",
   "execution_count": 16,
   "id": "6825d01a",
   "metadata": {},
   "outputs": [
    {
     "data": {
      "text/plain": [
       "array([103015.20159796, 132582.27760816, 132447.73845174])"
      ]
     },
     "execution_count": 16,
     "metadata": {},
     "output_type": "execute_result"
    }
   ],
   "source": [
    "linreg=LinearRegression()\n",
    "linreg.fit(x_train,y_train)\n",
    "\n",
    "y_pred = linreg.predict(x_test)\n",
    "y_pred[:3]"
   ]
  },
  {
   "cell_type": "markdown",
   "id": "b7dca1ed",
   "metadata": {},
   "source": [
    "#### Compute the Accuracy"
   ]
  },
  {
   "cell_type": "code",
   "execution_count": 17,
   "id": "bb03abec",
   "metadata": {},
   "outputs": [
    {
     "name": "stdout",
     "output_type": "stream",
     "text": [
      " Accuracy of the model is 93.47\n"
     ]
    },
    {
     "data": {
      "text/plain": [
       "Text(0, 0.5, 'Predicted')"
      ]
     },
     "execution_count": 17,
     "metadata": {},
     "output_type": "execute_result"
    },
    {
     "data": {
      "image/png": "[encoded data removed]",
      "text/plain": [
       "<Figure size 640x480 with 1 Axes>"
      ]
     },
     "metadata": {},
     "output_type": "display_data"
    }
   ],
   "source": [
    "Accuracy=r2_score(y_test,y_pred)*100\n",
    "print(\" Accuracy of the model is %.2f\" %Accuracy)\n",
    "\n",
    "plt.scatter(y_test,y_pred)\n",
    "plt.xlabel('Actual')\n",
    "plt.ylabel('Predicted')"
   ]
  },
  {
   "cell_type": "markdown",
   "id": "e3e074d5",
   "metadata": {},
   "source": [
    " #### Export the model\n",
    " <hr>"
   ]
  },
  {
   "cell_type": "markdown",
   "id": "58eb01d4",
   "metadata": {},
   "source": [
    "```sh\n",
    "import joblib\n",
    "\n",
    "import os\n",
    "\n",
    "if not os.path.exists('Model'):\n",
    "        os.mkdir('Model')\n",
    "if not os.path.exists('Scaler'):\n",
    "        os.mkdir('Scaler')\n",
    "\n",
    "joblib.dump(model, r'Model/model.pickle') \n",
    "joblib.dump(col_transformer, r'Scaler/scaler.pickle')\n",
    "\n",
    "```\n",
    "<hr>"
   ]
  },
  {
   "cell_type": "markdown",
   "id": "b07b5baf",
   "metadata": {},
   "source": [
    "Using the exported model for new data"
   ]
  },
  {
   "cell_type": "markdown",
   "id": "4c4c0262",
   "metadata": {},
   "source": [
    "<hr>\n",
    "\n",
    "```sh\n",
    "import joblib\n",
    "model = joblib.load(r'Model/model.pickle')\n",
    "scaler = joblib.load(r'Scaler/scaler.pickle')\n",
    "\n",
    "\n",
    "import pandas as pd\n",
    "new_data = pd.DataFrame([{'R&D Spend':'155349.2', 'Administration':'126897.8', 'Marketing Spend':'471784.1', 'State':'New York'},{'R&D Spend':'165349.2', 'Administration':'136897.8', 'Marketing Spend':'471784.1', 'State':'New York'}])\n",
    "\n",
    "# new_data = pd.DataFrame([])\n",
    "\n",
    "\n",
    "new_data = new_data[['R&D Spend','Administration','Marketing Spend','State']]\n",
    "\n",
    "print(new_data)\n",
    "\n",
    "# Normalize and add the missing values automatically\n",
    "new_data = scaler.transform(new_data)\n",
    "\n",
    "pre = model.predict(new_data)\n",
    "\n",
    "print(pre)\n",
    "\n",
    "```\n",
    "\n",
    "<hr>"
   ]
  },
  {
   "cell_type": "markdown",
   "id": "3d6e6ef4",
   "metadata": {},
   "source": [
    "#### Results"
   ]
  },
  {
   "cell_type": "markdown",
   "id": "8e137e36",
   "metadata": {},
   "source": [
    "<hr>\n",
    "\n",
    "![delay](https://user-images.githubusercontent.com/30151596/201482255-53bc6945-a384-4524-b5cc-734b818b8036.png)\n",
    "![Figure_1](https://user-images.githubusercontent.com/30151596/201482262-7b3766f3-0dd1-41dc-acb5-4c9b8fcf21c8.png)"
   ]
  },
  {
   "cell_type": "markdown",
   "id": "04b19aad",
   "metadata": {},
   "source": [
    "#### Consulusion\n"
   ]
  },
  {
   "cell_type": "markdown",
   "id": "b5f60b90",
   "metadata": {},
   "source": [
    "The aim of the work is to propose a multi-regression machine learning system to predict the profit of startup companies in the United States. Two, three, and four independent variables are used in the experiment. The performance of the system is calculated using two metrics: the R2 score and the processing latency. In general, the findings indicate that increasing the number of independent variables does not improve performance. As demonstrated in the graph, when comparing three and four independent variables, the r2 score of employing just two generates more accurate data. When the processing time is included, the result demonstrates a rise in the number of independent variables, leading to an increase in processing time for all stimulation."
   ]
  },
  {
   "cell_type": "code",
   "execution_count": null,
   "id": "ec2a3119",
   "metadata": {},
   "outputs": [],
   "source": []
  }
 ],
 "metadata": {
  "kernelspec": {
   "display_name": "Python 3 (ipykernel)",
   "language": "python",
   "name": "python3"
  },
  "language_info": {
   "codemirror_mode": {
    "name": "ipython",
    "version": 3
   },
   "file_extension": ".py",
   "mimetype": "text/x-python",
   "name": "python",
   "nbconvert_exporter": "python",
   "pygments_lexer": "ipython3",
   "version": "3.9.13"
  }
 },
 "nbformat": 4,
 "nbformat_minor": 5
}
